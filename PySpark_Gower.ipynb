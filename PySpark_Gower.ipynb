{
  "nbformat": 4,
  "nbformat_minor": 0,
  "metadata": {
    "colab": {
      "provenance": [],
      "authorship_tag": "ABX9TyODZ05oyXOOimsYHNPkbGcL",
      "include_colab_link": true
    },
    "kernelspec": {
      "name": "python3",
      "display_name": "Python 3"
    },
    "language_info": {
      "name": "python"
    }
  },
  "cells": [
    {
      "cell_type": "markdown",
      "metadata": {
        "id": "view-in-github",
        "colab_type": "text"
      },
      "source": [
        "<a href=\"https://colab.research.google.com/github/PedroAdair/TesisMaestria/blob/main/PySpark_Gower.ipynb\" target=\"_parent\"><img src=\"https://colab.research.google.com/assets/colab-badge.svg\" alt=\"Open In Colab\"/></a>"
      ]
    },
    {
      "cell_type": "code",
      "source": [
        "!pip install pyspark"
      ],
      "metadata": {
        "colab": {
          "base_uri": "https://localhost:8080/"
        },
        "id": "6j4MkO6-9EQg",
        "outputId": "e380a498-57d6-4f57-9bfc-9f4626035a46"
      },
      "execution_count": null,
      "outputs": [
        {
          "output_type": "stream",
          "name": "stdout",
          "text": [
            "Looking in indexes: https://pypi.org/simple, https://us-python.pkg.dev/colab-wheels/public/simple/\n",
            "Requirement already satisfied: pyspark in /usr/local/lib/python3.10/dist-packages (3.4.0)\n",
            "Requirement already satisfied: py4j==0.10.9.7 in /usr/local/lib/python3.10/dist-packages (from pyspark) (0.10.9.7)\n"
          ]
        }
      ]
    },
    {
      "cell_type": "code",
      "source": [
        "#@title Instalar librerias\n",
        "from pyspark.sql.functions import col, when\n",
        "from pyspark.ml.feature import VectorAssembler\n",
        "from pyspark.ml.linalg import DenseVector, VectorUDT, Vector\n",
        "from pyspark.sql import SparkSession\n",
        "from pyspark.ml.feature import VectorAssembler, StringIndexer, OneHotEncoder\n",
        "from pyspark.ml import Pipeline \n",
        "from pyspark.sql.types import StructType, StructField, DoubleType\n",
        "from pyspark.sql.functions import udf\n",
        "from pyspark.sql.functions import udf, array\n",
        "from pyspark.ml.linalg import DenseVector, SparseVector\n",
        "from pyspark.sql.functions import udf, expr\n",
        "from pyspark.sql.types import DoubleType\n",
        "\n",
        "import numpy as np"
      ],
      "metadata": {
        "id": "TqCrf8Gc9Kmf",
        "cellView": "form"
      },
      "execution_count": null,
      "outputs": []
    },
    {
      "cell_type": "code",
      "source": [
        "# Creamos una sesión de Spark\n",
        "spark = SparkSession.builder.getOrCreate()"
      ],
      "metadata": {
        "id": "lb-Bzl5P9O0e"
      },
      "execution_count": null,
      "outputs": []
    },
    {
      "cell_type": "markdown",
      "source": [
        "## Del dataset a la matriz de distancias"
      ],
      "metadata": {
        "id": "98VROopw0NBw"
      }
    },
    {
      "cell_type": "code",
      "source": [
        "# Creamos un DataFrame de ejemplo\n",
        "data = [(1, \"M\", 25, 150),\n",
        "        (2, \"F\", 30, 180),\n",
        "        (3, \"F\", 25, 160),\n",
        "        (4, \"M\", 35, 170)]\n",
        "columns = [\"id\", \"gender\", \"age\", \"height\"]\n",
        "df = spark.createDataFrame(data, columns)\n",
        "\n",
        "# Definimos las variables numéricas y categóricas\n",
        "numeric_cols = [\"age\", \"height\"]\n",
        "categorical_cols = [\"gender\"]"
      ],
      "metadata": {
        "id": "cn-YpC1V9Tlo"
      },
      "execution_count": 47,
      "outputs": []
    },
    {
      "cell_type": "code",
      "source": [
        "df.show()"
      ],
      "metadata": {
        "colab": {
          "base_uri": "https://localhost:8080/"
        },
        "id": "jWbWk9wZBBdP",
        "outputId": "9bf2dc28-6316-4d15-cacc-04301a5f3e54"
      },
      "execution_count": 48,
      "outputs": [
        {
          "output_type": "stream",
          "name": "stdout",
          "text": [
            "+---+------+---+------+\n",
            "| id|gender|age|height|\n",
            "+---+------+---+------+\n",
            "|  1|     M| 25|   150|\n",
            "|  2|     F| 30|   180|\n",
            "|  3|     F| 25|   160|\n",
            "|  4|     M| 35|   170|\n",
            "+---+------+---+------+\n",
            "\n"
          ]
        }
      ]
    },
    {
      "cell_type": "code",
      "source": [
        "# Codificación de variables categóricas\n",
        "indexers = [StringIndexer(inputCol=col_name, outputCol=col_name + \"_index\", handleInvalid=\"keep\") for col_name in categorical_cols]\n",
        "\n",
        "# Pipeline para encadenar los pasos de codificación\n",
        "pipeline = Pipeline(stages=indexers)\n",
        "df = pipeline.fit(df).transform(df)\n"
      ],
      "metadata": {
        "id": "QtsBkK1O9bj1"
      },
      "execution_count": 49,
      "outputs": []
    },
    {
      "cell_type": "code",
      "source": [
        "df.show()"
      ],
      "metadata": {
        "colab": {
          "base_uri": "https://localhost:8080/"
        },
        "id": "XBUsGiBeBp1k",
        "outputId": "b3978469-9e55-4e51-9fd2-d364a3f8efe5"
      },
      "execution_count": 50,
      "outputs": [
        {
          "output_type": "stream",
          "name": "stdout",
          "text": [
            "+---+------+---+------+------------+\n",
            "| id|gender|age|height|gender_index|\n",
            "+---+------+---+------+------------+\n",
            "|  1|     M| 25|   150|         1.0|\n",
            "|  2|     F| 30|   180|         0.0|\n",
            "|  3|     F| 25|   160|         0.0|\n",
            "|  4|     M| 35|   170|         1.0|\n",
            "+---+------+---+------+------------+\n",
            "\n"
          ]
        }
      ]
    },
    {
      "cell_type": "code",
      "source": [
        "# VectorAssembler para combinar todas las variables en un solo vector\n",
        "assembler = VectorAssembler(inputCols=numeric_cols + [col_name + \"_index\" for col_name in categorical_cols], outputCol=\"features\")\n",
        "df = assembler.transform(df)"
      ],
      "metadata": {
        "id": "wfAQ34Rw_VUq"
      },
      "execution_count": 51,
      "outputs": []
    },
    {
      "cell_type": "code",
      "source": [
        "df.show()"
      ],
      "metadata": {
        "colab": {
          "base_uri": "https://localhost:8080/"
        },
        "id": "SLF-skWLB5dD",
        "outputId": "55989597-1713-45ec-fa88-acdf27c10ee8"
      },
      "execution_count": 52,
      "outputs": [
        {
          "output_type": "stream",
          "name": "stdout",
          "text": [
            "+---+------+---+------+------------+----------------+\n",
            "| id|gender|age|height|gender_index|        features|\n",
            "+---+------+---+------+------------+----------------+\n",
            "|  1|     M| 25|   150|         1.0|[25.0,150.0,1.0]|\n",
            "|  2|     F| 30|   180|         0.0|[30.0,180.0,0.0]|\n",
            "|  3|     F| 25|   160|         0.0|[25.0,160.0,0.0]|\n",
            "|  4|     M| 35|   170|         1.0|[35.0,170.0,1.0]|\n",
            "+---+------+---+------+------------+----------------+\n",
            "\n"
          ]
        }
      ]
    },
    {
      "cell_type": "code",
      "source": [
        "# Definimos una función para calcular la distancia de Gower\n",
        "def calculate_gower_distance(row, features):\n",
        "    values = features.toArray()\n",
        "    gower_sum = sum([abs(float(values[i]) - float(row[i])) for i in range(len(values))])\n",
        "    return gower_sum / len(values)\n",
        "\n",
        "# Registramos la función como UDF\n",
        "calculate_gower_distance_udf = spark.udf.register(\"calculate_gower_distance\", calculate_gower_distance, DoubleType())\n",
        "\n",
        "# Agregamos una columna con la distancia de Gower calculada para cada fila\n",
        "df = df.withColumn(\"gower_distance\", calculate_gower_distance_udf(col(\"features\"), col(\"features\")))\n"
      ],
      "metadata": {
        "id": "CQnlRXkI_Ynf"
      },
      "execution_count": null,
      "outputs": []
    },
    {
      "cell_type": "code",
      "source": [
        "df.show()"
      ],
      "metadata": {
        "colab": {
          "base_uri": "https://localhost:8080/"
        },
        "id": "NZjGrfxQC8Jr",
        "outputId": "c22c10f3-4b0f-4264-c049-28e0a09141e2"
      },
      "execution_count": null,
      "outputs": [
        {
          "output_type": "stream",
          "name": "stdout",
          "text": [
            "+---+------+---+------+------------+----------------+--------------+\n",
            "| id|gender|age|height|gender_index|        features|gower_distance|\n",
            "+---+------+---+------+------------+----------------+--------------+\n",
            "|  1|     M| 25|   150|         1.0|[25.0,150.0,1.0]|           0.0|\n",
            "|  2|     F| 30|   180|         0.0|[30.0,180.0,0.0]|           0.0|\n",
            "|  3|     F| 25|   160|         0.0|[25.0,160.0,0.0]|           0.0|\n",
            "|  4|     M| 35|   170|         1.0|[35.0,170.0,1.0]|           0.0|\n",
            "+---+------+---+------+------------+----------------+--------------+\n",
            "\n"
          ]
        }
      ]
    },
    {
      "cell_type": "markdown",
      "source": [],
      "metadata": {
        "id": "bwqjqcqtL3W4"
      }
    },
    {
      "cell_type": "code",
      "source": [
        "from pyspark.sql.functions import col\n",
        "from pyspark.ml.feature import StringIndexer, VectorAssembler\n",
        "from pyspark.ml.linalg import DenseVector\n",
        "\n",
        "# Creamos un DataFrame de ejemplo\n",
        "data = [(1, \"M\", 25, 150),\n",
        "        (2, \"F\", 30, 180),\n",
        "        (3, \"F\", 25, 160),\n",
        "        (4, \"M\", 35, 170)]\n",
        "columns = [\"id\", \"gender\", \"age\", \"height\"]\n",
        "df = spark.createDataFrame(data, columns)\n",
        "\n",
        "# Definimos las variables numéricas y categóricas\n",
        "numeric_cols = [\"age\", \"height\"]\n",
        "categorical_cols = [\"gender\"]\n",
        "\n",
        "# Codificación de variables categóricas\n",
        "indexers = [StringIndexer(inputCol=col_name, outputCol=col_name + \"_index\", handleInvalid=\"keep\") for col_name in categorical_cols]\n",
        "df = df\n",
        "for indexer in indexers:\n",
        "    df = indexer.fit(df).transform(df)\n",
        "\n",
        "# VectorAssembler para combinar todas las variables en un solo vector\n",
        "assembler = VectorAssembler(inputCols=numeric_cols + [col_name + \"_index\" for col_name in categorical_cols], outputCol=\"features\")\n",
        "df = assembler.transform(df)\n",
        "\n",
        "# IDs de las observaciones que deseas comparar\n",
        "id1 = 1\n",
        "id2 = 2\n",
        "\n",
        "# Filtrar las observaciones del DataFrame\n",
        "row1 = df.filter(col(\"id\") == id1).select(\"features\").first()\n",
        "row2 = df.filter(col(\"id\") == id2).select(\"features\").first()\n",
        "\n",
        "# Calcular la distancia de Gower entre las observaciones seleccionadas\n",
        "values1 = row1.features.toArray()\n",
        "values2 = row2.features.toArray()\n",
        "gower_sum = sum([abs(float(values1[i]) - float(values2[i]))(max()) for i in range(len(values1))])\n",
        "gower_distance = gower_sum / len(values1)\n",
        "\n",
        "print(gower_distance)\n"
      ],
      "metadata": {
        "colab": {
          "base_uri": "https://localhost:8080/"
        },
        "id": "8HoAOqfumS0X",
        "outputId": "bd777684-f02f-4906-b941-0b8ed0a93cd5"
      },
      "execution_count": 56,
      "outputs": [
        {
          "output_type": "stream",
          "name": "stdout",
          "text": [
            "12.0\n"
          ]
        }
      ]
    },
    {
      "cell_type": "markdown",
      "source": [
        "##Eliminar aristas y construir el grafo"
      ],
      "metadata": {
        "id": "7ma8UcZl0Qh8"
      }
    },
    {
      "cell_type": "code",
      "source": [],
      "metadata": {
        "id": "4xIcnwCF0Ujs"
      },
      "execution_count": null,
      "outputs": []
    }
  ]
}